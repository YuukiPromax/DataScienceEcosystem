{
 "cells": [
  {
   "cell_type": "markdown",
   "id": "3ab002d9",
   "metadata": {},
   "source": [
    "# Data Science Tools and Ecosystem"
   ]
  },
  {
   "cell_type": "markdown",
   "id": "78f3916a",
   "metadata": {},
   "source": [
    "In this notebook, Data Science Tools and Ecosystem are summarized."
   ]
  },
  {
   "cell_type": "markdown",
   "id": "9ec3f34d",
   "metadata": {},
   "source": [
    "Some of the popular languages that Data Scientists use are:\n",
    "1. Python\n",
    "2. R\n",
    "3. SQL"
   ]
  },
  {
   "cell_type": "markdown",
   "id": "b2afe0e6",
   "metadata": {},
   "source": [
    "Some of the commonly used libraries used by Data Scientists include:\n",
    "1. Pandas\n",
    "2. NumPy\n",
    "3. Matplotlib\n",
    "4. scikit-learn\n"
   ]
  },
  {
   "cell_type": "markdown",
   "id": "076b72c5",
   "metadata": {},
   "source": [
    "| Data Science Tools |\n",
    "| ------------------ |\n",
    "| Jupyter Notebook   |\n",
    "| RStudio            |\n",
    "| Apache Zeppelin    |\n"
   ]
  },
  {
   "cell_type": "markdown",
   "id": "df548845",
   "metadata": {},
   "source": [
    "### Below are a few examples of evaluating arithmetic expressions in Python.\n"
   ]
  },
  {
   "cell_type": "code",
   "execution_count": null,
   "id": "b1e0571d",
   "metadata": {},
   "outputs": [],
   "source": [
    "# (Cell 7 - Code)\n",
    "# This a simple arithmetic expression to multiply then add integers\n",
    "(3*4)+5\n"
   ]
  },
  {
   "cell_type": "code",
   "execution_count": null,
   "id": "a9069950",
   "metadata": {},
   "outputs": [],
   "source": [
    "# (Cell 8 - Code)\n",
    "# This will convert 200 minutes to hours by dividing by 60\n",
    "200 / 60\n"
   ]
  },
  {
   "cell_type": "markdown",
   "id": "4bf888db",
   "metadata": {},
   "source": [
    "**Objectives:**\n",
    "- List popular languages for Data Science\n",
    "- List commonly used libraries in Data Science\n",
    "- Create a table of Data Science tools\n",
    "- Show examples of basic arithmetic expressions\n",
    "- Convert minutes to hours\n"
   ]
  },
  {
   "cell_type": "markdown",
   "id": "ae5ef0b5",
   "metadata": {},
   "source": [
    "## Author\n",
    "Zhongyao Yu\n"
   ]
  },
  {
   "cell_type": "markdown",
   "id": "4c9643e5",
   "metadata": {},
   "source": [
    "**Sharing Your Notebook via GitHub**\n",
    "\n",
    "1. Save this notebook and download it (e.g. `DataScienceEcosystem.ipynb`).\n",
    "2. Go to GitHub and create a new **public repository** (or use an existing one).\n",
    "3. Upload the notebook file into that repository.\n",
    "4. Copy the public URL of the notebook. You will submit this link for peer review.\n"
   ]
  },
  {
   "cell_type": "markdown",
   "id": "f668cf1e",
   "metadata": {},
   "source": [
    "**Screenshot of the First Page**\n",
    "Make sure to take a screenshot of the first page of this notebook (before or after you upload to GitHub) and name it `1-notebook.png`.\n"
   ]
  }
 ],
 "metadata": {
  "kernelspec": {
   "display_name": "Python 3 (ipykernel)",
   "language": "python",
   "name": "python3"
  },
  "language_info": {
   "codemirror_mode": {
    "name": "ipython",
    "version": 3
   },
   "file_extension": ".py",
   "mimetype": "text/x-python",
   "name": "python",
   "nbconvert_exporter": "python",
   "pygments_lexer": "ipython3",
   "version": "3.11.4"
  }
 },
 "nbformat": 4,
 "nbformat_minor": 5
}
